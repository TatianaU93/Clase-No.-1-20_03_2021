{
 "cells": [
  {
   "cell_type": "markdown",
   "metadata": {},
   "source": [
    "### PRIMERA CLASE "
   ]
  },
  {
   "cell_type": "code",
   "execution_count": 22,
   "metadata": {},
   "outputs": [
    {
     "name": "stdout",
     "output_type": "stream",
     "text": [
      "Hola mundo\n"
     ]
    }
   ],
   "source": [
    "print(\"Hola mundo\")"
   ]
  },
  {
   "cell_type": "markdown",
   "metadata": {},
   "source": [
    "### Ejercicio 1\n"
   ]
  },
  {
   "cell_type": "code",
   "execution_count": 23,
   "metadata": {},
   "outputs": [
    {
     "name": "stdout",
     "output_type": "stream",
     "text": [
      "Puede tomar cerveza\n"
     ]
    }
   ],
   "source": [
    "# Ejercicio 1.1\n",
    "\n",
    "edad = 21\n",
    "\n",
    "if edad >=18: # Prueba Lógica\n",
    "    print(\"Puede tomar cerveza\")\n",
    "else: \n",
    "    print(\"No puede tomar cerveza\")"
   ]
  },
  {
   "cell_type": "code",
   "execution_count": 24,
   "metadata": {},
   "outputs": [
    {
     "name": "stdout",
     "output_type": "stream",
     "text": [
      "Porfavor ingrese la edad15\n",
      "No puede tomar cerveza\n"
     ]
    }
   ],
   "source": [
    "# Ejercicio 1.2\n",
    "# El usuario pueda ingresar la edad por teclado \n",
    "\n",
    "edad = int(input(\"Porfavor ingrese la edad\"))\n",
    "if edad >=18: # Prueba Lógica\n",
    "    print(\"Puede tomar cerveza\")\n",
    "else: \n",
    "    print(\"No puede tomar cerveza\")"
   ]
  },
  {
   "cell_type": "code",
   "execution_count": 25,
   "metadata": {},
   "outputs": [],
   "source": [
    "# Ejercicio 1.3\n",
    "# Creación de una función\n",
    "\n",
    "def ejercicio1(edad):\n",
    "    if edad >=18: # Prueba Lógica\n",
    "        print(\"Puede tomar cerveza\")\n",
    "    else: \n",
    "        print(\"No puede tomar cerveza\")"
   ]
  },
  {
   "cell_type": "code",
   "execution_count": 26,
   "metadata": {},
   "outputs": [
    {
     "name": "stdout",
     "output_type": "stream",
     "text": [
      "Puede tomar cerveza\n"
     ]
    }
   ],
   "source": [
    "ejercicio1(18)"
   ]
  },
  {
   "cell_type": "code",
   "execution_count": 27,
   "metadata": {},
   "outputs": [
    {
     "name": "stdout",
     "output_type": "stream",
     "text": [
      "Porfavor ingrese la edad12\n",
      "No puede tomar cerveza\n"
     ]
    }
   ],
   "source": [
    "ejercicio1(int(input(\"Porfavor ingrese la edad\")))"
   ]
  },
  {
   "cell_type": "markdown",
   "metadata": {},
   "source": [
    "### Ejercicio 2"
   ]
  },
  {
   "cell_type": "code",
   "execution_count": 39,
   "metadata": {},
   "outputs": [
    {
     "name": "stdout",
     "output_type": "stream",
     "text": [
      "Compro AguilA\n"
     ]
    }
   ],
   "source": [
    "# Ejercicio 2.1\n",
    "\n",
    "marca = \"AguilA\"\n",
    "\n",
    "if marca.lower() == \"budweiser\": \n",
    "    print(\"Compro\", marca) # Está es la recomendable\n",
    "    # print(\"Compro + marca\")\n",
    "elif marca.lower() == \"aguila\":\n",
    "    print(\"Compro\", marca)\n",
    "else: \n",
    "    print(\"No compro nada\")"
   ]
  },
  {
   "cell_type": "code",
   "execution_count": 28,
   "metadata": {},
   "outputs": [
    {
     "name": "stdout",
     "output_type": "stream",
     "text": [
      "La TRM del día es 3500\n"
     ]
    }
   ],
   "source": [
    "TRM = 3500\n",
    "\n",
    "print(\"La TRM del día es\", TRM) "
   ]
  },
  {
   "cell_type": "code",
   "execution_count": 29,
   "metadata": {},
   "outputs": [
    {
     "name": "stdout",
     "output_type": "stream",
     "text": [
      "La TRM del día es3500\n"
     ]
    }
   ],
   "source": [
    "TRM = 3500\n",
    "\n",
    "print(\"La TRM del día es\" + str(TRM)) # Paso adicional"
   ]
  },
  {
   "cell_type": "code",
   "execution_count": 38,
   "metadata": {},
   "outputs": [
    {
     "name": "stdout",
     "output_type": "stream",
     "text": [
      "aguila\n",
      "AGUILA\n"
     ]
    }
   ],
   "source": [
    "# 2.0.1\n",
    "\n",
    "marca = \"AGUILA\" \n",
    "print(marca.lower()) \n",
    "marca2 = \"aguila\"\n",
    "print(marca2.upper())"
   ]
  },
  {
   "cell_type": "code",
   "execution_count": 42,
   "metadata": {},
   "outputs": [
    {
     "name": "stdout",
     "output_type": "stream",
     "text": [
      "Ingrese la marcaBudweiser\n",
      "Compro Budweiser\n"
     ]
    }
   ],
   "source": [
    "# Ejercio 2.2\n",
    "# Ingreso de la marca por teclado\n",
    "\n",
    "marca = input(\"Ingrese la marca\")\n",
    "\n",
    "if marca.lower() == \"budweiser\": \n",
    "    print(\"Compro\", marca) # Está es la recomendable\n",
    "    # print(\"Compro + marca\")\n",
    "elif marca.lower() == \"aguila\":\n",
    "    print(\"Compro\", marca)\n",
    "else: \n",
    "    print(\"No compro nada\")"
   ]
  },
  {
   "cell_type": "code",
   "execution_count": 43,
   "metadata": {},
   "outputs": [],
   "source": [
    "# Ejercio 2.3\n",
    "# Creacion de una función\n",
    "\n",
    "def seleccionCompra():\n",
    "    marca = input(\"Ingrese la marca\")\n",
    "\n",
    "    if marca.lower() == \"budweiser\": \n",
    "        print(\"Compro\", marca) # Está es la recomendable\n",
    "        # print(\"Compro + marca\")\n",
    "    elif marca.lower() == \"aguila\":\n",
    "        print(\"Compro\", marca)\n",
    "    else: \n",
    "        print(\"No compro nada\")"
   ]
  },
  {
   "cell_type": "code",
   "execution_count": 44,
   "metadata": {},
   "outputs": [
    {
     "name": "stdout",
     "output_type": "stream",
     "text": [
      "Ingrese la marcaPoker\n",
      "No compro nada\n"
     ]
    }
   ],
   "source": [
    "seleccionCompra()"
   ]
  },
  {
   "cell_type": "code",
   "execution_count": null,
   "metadata": {},
   "outputs": [],
   "source": []
  }
 ],
 "metadata": {
  "kernelspec": {
   "display_name": "Python 3",
   "language": "python",
   "name": "python3"
  },
  "language_info": {
   "codemirror_mode": {
    "name": "ipython",
    "version": 3
   },
   "file_extension": ".py",
   "mimetype": "text/x-python",
   "name": "python",
   "nbconvert_exporter": "python",
   "pygments_lexer": "ipython3",
   "version": "3.8.5"
  }
 },
 "nbformat": 4,
 "nbformat_minor": 4
}
